{
 "cells": [
  {
   "cell_type": "code",
   "execution_count": 1,
   "id": "1d00bc54",
   "metadata": {
    "scrolled": true,
    "pycharm": {
     "name": "#%%\n"
    }
   },
   "outputs": [
    {
     "name": "stderr",
     "output_type": "stream",
     "text": [
      "bash: switchml: line 1: syntax error: unexpected end of file\n",
      "bash: error importing function definition for `switchml'\n",
      "bash: _moduleraw: line 1: syntax error: unexpected end of file\n",
      "bash: error importing function definition for `_moduleraw'\n",
      "bash: _moduleraw: line 1: syntax error: unexpected end of file\n",
      "bash: error importing function definition for `_moduleraw'\n",
      "bash: switchml: line 1: syntax error: unexpected end of file\n",
      "bash: error importing function definition for `switchml'\n",
      "22/06/30 14:36:59 WARN NativeCodeLoader: Unable to load native-hadoop library for your platform... using builtin-java classes where applicable\n",
      "Using Spark's default log4j profile: org/apache/spark/log4j-defaults.properties\n",
      "Setting default log level to \"WARN\".\n",
      "To adjust logging level use sc.setLogLevel(newLevel). For SparkR, use setLogLevel(newLevel).\n"
     ]
    }
   ],
   "source": [
    "from pyspark.sql import SparkSession\n",
    "sc = SparkSession.builder.master(\"local\").appName(\"Test\").getOrCreate()\n",
    "\n",
    "columnName = 'te', 'td', 'sa', 'da', 'sp', 'dp', 'pr', 'flg', 'fwd', 'stos', 'pkt', 'byt', 'label'\n",
    "data_path = \"/home/ubuntu/Documents/data/\"\n",
    "large_data_file = data_path + \"ugr16/uniq/april.week3.csv.uniqblacklistremoved\"\n",
    "day_one_file = data_path + \"/ugr16/april_week3_day1\"\n",
    "day_two_file = data_path + \"/ugr16/april_week3_day2\"\n",
    "\n",
    "day_one_date = '2016-04-11'\n",
    "day_two_date = '2016-04-12'"
   ]
  },
  {
   "cell_type": "code",
   "execution_count": null,
   "id": "b3693a5e",
   "metadata": {
    "pycharm": {
     "name": "#%%\n"
    }
   },
   "outputs": [],
   "source": [
    "day_one_file"
   ]
  },
  {
   "cell_type": "code",
   "execution_count": 4,
   "id": "daeb9d85",
   "metadata": {
    "scrolled": true,
    "pycharm": {
     "name": "#%%\n"
    }
   },
   "outputs": [],
   "source": [
    "df_raw = sc.read.csv(large_data_file)\n",
    "df_raw = df_raw.toDF(*columnName)"
   ]
  },
  {
   "cell_type": "code",
   "execution_count": null,
   "id": "8aae2c7b",
   "metadata": {
    "pycharm": {
     "name": "#%%\n"
    }
   },
   "outputs": [],
   "source": [
    "df_raw.count()"
   ]
  },
  {
   "cell_type": "code",
   "execution_count": 5,
   "id": "98a514c6",
   "metadata": {
    "pycharm": {
     "name": "#%%\n"
    }
   },
   "outputs": [],
   "source": [
    "df_day_one = df_raw.filter(df_raw.te.startswith(day_one_date))\n",
    "df_day_two = df_raw.filter(df_raw.te.startswith(day_two_date))"
   ]
  },
  {
   "cell_type": "code",
   "execution_count": null,
   "id": "4bd20b8b",
   "metadata": {
    "pycharm": {
     "name": "#%%\n"
    }
   },
   "outputs": [],
   "source": [
    "df_raw.filter(df_raw.fwd != 0).show()"
   ]
  },
  {
   "cell_type": "code",
   "execution_count": 11,
   "id": "c8fb04b7",
   "metadata": {
    "pycharm": {
     "name": "#%%\n"
    }
   },
   "outputs": [
    {
     "name": "stdout",
     "output_type": "stream",
     "text": [
      "+-------------------+-----+--------------+--------------+-----+-----+---+------+---+----+---+-----+---------------+\n",
      "|                 te|   td|            sa|            da|   sp|   dp| pr|   flg|fwd|stos|pkt|  byt|          label|\n",
      "+-------------------+-----+--------------+--------------+-----+-----+---+------+---+----+---+-----+---------------+\n",
      "|2016-04-11 00:01:41|8.996|42.219.152.242| 54.100.224.79|41572|   25|TCP|....S.|  0|   0|  3|  180|      blacklist|\n",
      "|2016-04-11 00:01:43|0.000|42.219.158.188|158.162.62.193|   53|52937|UDP|.A....|  0|   0|  1|  152|      blacklist|\n",
      "|2016-04-11 00:01:44|0.000|  143.72.8.137|42.219.158.188|   53|36648|UDP|.A....|  0|   0|  2|  238|      blacklist|\n",
      "|2016-04-11 00:01:44|0.000|42.219.158.188|  143.72.8.137|41586|   53|UDP|.A....|  0|   0|  2|  128|      blacklist|\n",
      "|2016-04-11 00:01:44|0.000|42.219.158.188|  143.72.8.137|50301|   53|UDP|.A....|  0|   0|  2|  128|      blacklist|\n",
      "|2016-04-11 00:01:44|0.000|42.219.158.188|  143.72.8.137|54047|   53|UDP|.A....|  0|   0|  2|  128|      blacklist|\n",
      "|2016-04-11 00:01:44|0.004|42.219.158.188|  143.72.8.137|36648|   53|UDP|.A....|  0|   0|  2|  128|      blacklist|\n",
      "|2016-04-11 00:01:44|0.116|42.219.158.188|175.177.229.80|   80| 5355|TCP|.AP...|  0|   2| 14|19736|      blacklist|\n",
      "|2016-04-11 00:01:44|0.448|42.219.158.188|215.98.182.153|   80|64601|TCP|.AP.SF|  0|   0|  6|  853|      blacklist|\n",
      "|2016-04-11 00:01:44|0.456|42.219.158.188|175.177.229.80|   80| 5355|TCP|.A..SF|  0|   0|  3|  128|      blacklist|\n",
      "|2016-04-11 00:01:45|0.000|  143.72.8.137|42.219.158.188|   53|33817|UDP|.A....|  0|   0|  2|  238|      blacklist|\n",
      "|2016-04-11 00:01:45|0.000|  143.72.8.137|42.219.158.188|   53|35296|UDP|.A....|  0|   0|  2|  238|      blacklist|\n",
      "|2016-04-11 00:01:45|0.000|  143.72.8.137|42.219.158.188|   53|39176|UDP|.A....|  0|   0|  2|  238|      blacklist|\n",
      "|2016-04-11 00:01:45|0.000|  143.72.8.137|42.219.158.188|   53|41586|UDP|.A....|  0|   0|  2|  238|      blacklist|\n",
      "|2016-04-11 00:01:45|0.000|  143.72.8.137|42.219.158.188|   53|46058|UDP|.A....|  0|   0|  2|  238|      blacklist|\n",
      "|2016-04-11 00:01:45|0.000|  143.72.8.137|42.219.158.188|   53|50301|UDP|.A....|  0|   0|  2|  238|      blacklist|\n",
      "|2016-04-11 00:01:45|0.000|  143.72.8.137|42.219.158.188|   53|51656|UDP|.A....|  0|   0|  2|  238|      blacklist|\n",
      "|2016-04-11 00:01:45|0.000|  143.72.8.137|42.219.158.188|   53|51740|UDP|.A....|  0|   0|  2|  238|      blacklist|\n",
      "|2016-04-11 00:01:45|0.000|  143.72.8.137|42.219.158.188|   53|60631|UDP|.A....|  0|   0|  2|  238|      blacklist|\n",
      "|2016-04-11 00:01:45|0.000|42.219.156.231| 71.62.190.207|36608|   22|TCP|...R..|  0|  40|  2|   80|anomaly-sshscan|\n",
      "+-------------------+-----+--------------+--------------+-----+-----+---+------+---+----+---+-----+---------------+\n",
      "only showing top 20 rows\n",
      "\n"
     ]
    }
   ],
   "source": [
    "df_day_one.filter(df_day_one.label != \"background\").show()"
   ]
  },
  {
   "cell_type": "markdown",
   "source": [],
   "metadata": {
    "collapsed": false,
    "pycharm": {
     "name": "#%% md\n"
    }
   }
  },
  {
   "cell_type": "code",
   "execution_count": 7,
   "id": "b7315130",
   "metadata": {
    "pycharm": {
     "name": "#%%\n"
    }
   },
   "outputs": [
    {
     "name": "stderr",
     "output_type": "stream",
     "text": [
      "[Stage 2:=>                                                      (24 + 1) / 800]\r"
     ]
    },
    {
     "ename": "KeyboardInterrupt",
     "evalue": "",
     "output_type": "error",
     "traceback": [
      "\u001B[0;31m---------------------------------------------------------------------------\u001B[0m",
      "\u001B[0;31mKeyboardInterrupt\u001B[0m                         Traceback (most recent call last)",
      "Input \u001B[0;32mIn [7]\u001B[0m, in \u001B[0;36m<cell line: 1>\u001B[0;34m()\u001B[0m\n\u001B[0;32m----> 1\u001B[0m \u001B[43mdf_day_one\u001B[49m\u001B[38;5;241;43m.\u001B[39;49m\u001B[43mcount\u001B[49m\u001B[43m(\u001B[49m\u001B[43m)\u001B[49m\n",
      "File \u001B[0;32m~/anaconda3/envs/stan/lib/python3.8/site-packages/pyspark/sql/dataframe.py:664\u001B[0m, in \u001B[0;36mDataFrame.count\u001B[0;34m(self)\u001B[0m\n\u001B[1;32m    654\u001B[0m \u001B[38;5;28;01mdef\u001B[39;00m \u001B[38;5;21mcount\u001B[39m(\u001B[38;5;28mself\u001B[39m):\n\u001B[1;32m    655\u001B[0m     \u001B[38;5;124;03m\"\"\"Returns the number of rows in this :class:`DataFrame`.\u001B[39;00m\n\u001B[1;32m    656\u001B[0m \n\u001B[1;32m    657\u001B[0m \u001B[38;5;124;03m    .. versionadded:: 1.3.0\u001B[39;00m\n\u001B[0;32m   (...)\u001B[0m\n\u001B[1;32m    662\u001B[0m \u001B[38;5;124;03m    2\u001B[39;00m\n\u001B[1;32m    663\u001B[0m \u001B[38;5;124;03m    \"\"\"\u001B[39;00m\n\u001B[0;32m--> 664\u001B[0m     \u001B[38;5;28;01mreturn\u001B[39;00m \u001B[38;5;28mint\u001B[39m(\u001B[38;5;28;43mself\u001B[39;49m\u001B[38;5;241;43m.\u001B[39;49m\u001B[43m_jdf\u001B[49m\u001B[38;5;241;43m.\u001B[39;49m\u001B[43mcount\u001B[49m\u001B[43m(\u001B[49m\u001B[43m)\u001B[49m)\n",
      "File \u001B[0;32m~/anaconda3/envs/stan/lib/python3.8/site-packages/py4j/java_gateway.py:1308\u001B[0m, in \u001B[0;36mJavaMember.__call__\u001B[0;34m(self, *args)\u001B[0m\n\u001B[1;32m   1301\u001B[0m args_command, temp_args \u001B[38;5;241m=\u001B[39m \u001B[38;5;28mself\u001B[39m\u001B[38;5;241m.\u001B[39m_build_args(\u001B[38;5;241m*\u001B[39margs)\n\u001B[1;32m   1303\u001B[0m command \u001B[38;5;241m=\u001B[39m proto\u001B[38;5;241m.\u001B[39mCALL_COMMAND_NAME \u001B[38;5;241m+\u001B[39m\\\n\u001B[1;32m   1304\u001B[0m     \u001B[38;5;28mself\u001B[39m\u001B[38;5;241m.\u001B[39mcommand_header \u001B[38;5;241m+\u001B[39m\\\n\u001B[1;32m   1305\u001B[0m     args_command \u001B[38;5;241m+\u001B[39m\\\n\u001B[1;32m   1306\u001B[0m     proto\u001B[38;5;241m.\u001B[39mEND_COMMAND_PART\n\u001B[0;32m-> 1308\u001B[0m answer \u001B[38;5;241m=\u001B[39m \u001B[38;5;28;43mself\u001B[39;49m\u001B[38;5;241;43m.\u001B[39;49m\u001B[43mgateway_client\u001B[49m\u001B[38;5;241;43m.\u001B[39;49m\u001B[43msend_command\u001B[49m\u001B[43m(\u001B[49m\u001B[43mcommand\u001B[49m\u001B[43m)\u001B[49m\n\u001B[1;32m   1309\u001B[0m return_value \u001B[38;5;241m=\u001B[39m get_return_value(\n\u001B[1;32m   1310\u001B[0m     answer, \u001B[38;5;28mself\u001B[39m\u001B[38;5;241m.\u001B[39mgateway_client, \u001B[38;5;28mself\u001B[39m\u001B[38;5;241m.\u001B[39mtarget_id, \u001B[38;5;28mself\u001B[39m\u001B[38;5;241m.\u001B[39mname)\n\u001B[1;32m   1312\u001B[0m \u001B[38;5;28;01mfor\u001B[39;00m temp_arg \u001B[38;5;129;01min\u001B[39;00m temp_args:\n",
      "File \u001B[0;32m~/anaconda3/envs/stan/lib/python3.8/site-packages/py4j/java_gateway.py:1038\u001B[0m, in \u001B[0;36mGatewayClient.send_command\u001B[0;34m(self, command, retry, binary)\u001B[0m\n\u001B[1;32m   1036\u001B[0m connection \u001B[38;5;241m=\u001B[39m \u001B[38;5;28mself\u001B[39m\u001B[38;5;241m.\u001B[39m_get_connection()\n\u001B[1;32m   1037\u001B[0m \u001B[38;5;28;01mtry\u001B[39;00m:\n\u001B[0;32m-> 1038\u001B[0m     response \u001B[38;5;241m=\u001B[39m \u001B[43mconnection\u001B[49m\u001B[38;5;241;43m.\u001B[39;49m\u001B[43msend_command\u001B[49m\u001B[43m(\u001B[49m\u001B[43mcommand\u001B[49m\u001B[43m)\u001B[49m\n\u001B[1;32m   1039\u001B[0m     \u001B[38;5;28;01mif\u001B[39;00m binary:\n\u001B[1;32m   1040\u001B[0m         \u001B[38;5;28;01mreturn\u001B[39;00m response, \u001B[38;5;28mself\u001B[39m\u001B[38;5;241m.\u001B[39m_create_connection_guard(connection)\n",
      "File \u001B[0;32m~/anaconda3/envs/stan/lib/python3.8/site-packages/py4j/java_gateway.py:1205\u001B[0m, in \u001B[0;36mGatewayConnection.send_command\u001B[0;34m(self, command)\u001B[0m\n\u001B[1;32m   1201\u001B[0m     \u001B[38;5;28;01mraise\u001B[39;00m Py4JNetworkError(\n\u001B[1;32m   1202\u001B[0m         \u001B[38;5;124m\"\u001B[39m\u001B[38;5;124mError while sending\u001B[39m\u001B[38;5;124m\"\u001B[39m, e, proto\u001B[38;5;241m.\u001B[39mERROR_ON_SEND)\n\u001B[1;32m   1204\u001B[0m \u001B[38;5;28;01mtry\u001B[39;00m:\n\u001B[0;32m-> 1205\u001B[0m     answer \u001B[38;5;241m=\u001B[39m smart_decode(\u001B[38;5;28;43mself\u001B[39;49m\u001B[38;5;241;43m.\u001B[39;49m\u001B[43mstream\u001B[49m\u001B[38;5;241;43m.\u001B[39;49m\u001B[43mreadline\u001B[49m\u001B[43m(\u001B[49m\u001B[43m)\u001B[49m[:\u001B[38;5;241m-\u001B[39m\u001B[38;5;241m1\u001B[39m])\n\u001B[1;32m   1206\u001B[0m     logger\u001B[38;5;241m.\u001B[39mdebug(\u001B[38;5;124m\"\u001B[39m\u001B[38;5;124mAnswer received: \u001B[39m\u001B[38;5;132;01m{0}\u001B[39;00m\u001B[38;5;124m\"\u001B[39m\u001B[38;5;241m.\u001B[39mformat(answer))\n\u001B[1;32m   1207\u001B[0m     \u001B[38;5;28;01mif\u001B[39;00m answer\u001B[38;5;241m.\u001B[39mstartswith(proto\u001B[38;5;241m.\u001B[39mRETURN_MESSAGE):\n",
      "File \u001B[0;32m~/anaconda3/envs/stan/lib/python3.8/socket.py:669\u001B[0m, in \u001B[0;36mSocketIO.readinto\u001B[0;34m(self, b)\u001B[0m\n\u001B[1;32m    667\u001B[0m \u001B[38;5;28;01mwhile\u001B[39;00m \u001B[38;5;28;01mTrue\u001B[39;00m:\n\u001B[1;32m    668\u001B[0m     \u001B[38;5;28;01mtry\u001B[39;00m:\n\u001B[0;32m--> 669\u001B[0m         \u001B[38;5;28;01mreturn\u001B[39;00m \u001B[38;5;28;43mself\u001B[39;49m\u001B[38;5;241;43m.\u001B[39;49m\u001B[43m_sock\u001B[49m\u001B[38;5;241;43m.\u001B[39;49m\u001B[43mrecv_into\u001B[49m\u001B[43m(\u001B[49m\u001B[43mb\u001B[49m\u001B[43m)\u001B[49m\n\u001B[1;32m    670\u001B[0m     \u001B[38;5;28;01mexcept\u001B[39;00m timeout:\n\u001B[1;32m    671\u001B[0m         \u001B[38;5;28mself\u001B[39m\u001B[38;5;241m.\u001B[39m_timeout_occurred \u001B[38;5;241m=\u001B[39m \u001B[38;5;28;01mTrue\u001B[39;00m\n",
      "\u001B[0;31mKeyboardInterrupt\u001B[0m: "
     ]
    }
   ],
   "source": [
    "df_day_one.count()"
   ]
  },
  {
   "cell_type": "code",
   "execution_count": null,
   "id": "9d077c51",
   "metadata": {
    "pycharm": {
     "name": "#%%\n"
    }
   },
   "outputs": [],
   "source": [
    "df_day_two.show()"
   ]
  },
  {
   "cell_type": "markdown",
   "source": [
    "Next two cells save pyspark session into csv files"
   ],
   "metadata": {
    "collapsed": false,
    "pycharm": {
     "name": "#%% md\n"
    }
   }
  },
  {
   "cell_type": "code",
   "execution_count": null,
   "id": "582feb93",
   "metadata": {
    "pycharm": {
     "name": "#%%\n"
    }
   },
   "outputs": [],
   "source": [
    "df_day_one.write.csv(day_one_file)"
   ]
  },
  {
   "cell_type": "code",
   "execution_count": 6,
   "id": "4affd13f",
   "metadata": {
    "pycharm": {
     "name": "#%%\n"
    }
   },
   "outputs": [
    {
     "name": "stderr",
     "output_type": "stream",
     "text": [
      "                                                                                \r"
     ]
    }
   ],
   "source": [
    "df_day_two.write.csv(day_two_file)"
   ]
  },
  {
   "cell_type": "code",
   "execution_count": 4,
   "outputs": [],
   "source": [
    "import glob\n",
    "\n",
    "def aggregate_spark_csv(spark_folder, out_file):\n",
    "    for f in glob.glob(spark_folder + \"/*.csv\"):\n",
    "        open(out_file, mode='a').write(open(f, mode='r').read())"
   ],
   "metadata": {
    "collapsed": false,
    "pycharm": {
     "name": "#%%\n"
    }
   }
  },
  {
   "cell_type": "code",
   "execution_count": null,
   "outputs": [],
   "source": [
    "aggregate_spark_csv(day_one_file, day_one_file + '.csv')"
   ],
   "metadata": {
    "collapsed": false,
    "pycharm": {
     "name": "#%%\n"
    }
   }
  },
  {
   "cell_type": "code",
   "execution_count": 6,
   "outputs": [],
   "source": [
    "aggregate_spark_csv(day_two_file, day_two_file + '.csv')"
   ],
   "metadata": {
    "collapsed": false,
    "pycharm": {
     "name": "#%%\n"
    }
   }
  },
  {
   "cell_type": "code",
   "execution_count": null,
   "outputs": [],
   "source": [],
   "metadata": {
    "collapsed": false,
    "pycharm": {
     "name": "#%%\n"
    }
   }
  }
 ],
 "metadata": {
  "kernelspec": {
   "name": "conda_stan",
   "language": "python",
   "display_name": "Environment (conda_stan)"
  },
  "language_info": {
   "codemirror_mode": {
    "name": "ipython",
    "version": 3
   },
   "file_extension": ".py",
   "mimetype": "text/x-python",
   "name": "python",
   "nbconvert_exporter": "python",
   "pygments_lexer": "ipython3",
   "version": "3.6.9"
  }
 },
 "nbformat": 4,
 "nbformat_minor": 5
}