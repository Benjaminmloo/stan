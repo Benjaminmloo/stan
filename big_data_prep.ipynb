{
 "cells": [
  {
   "cell_type": "code",
   "execution_count": 13,
   "id": "1d00bc54",
   "metadata": {
    "scrolled": true,
    "pycharm": {
     "name": "#%%\n"
    }
   },
   "outputs": [],
   "source": [
    "from pathlib import Path\n",
    "from pyspark.sql import SparkSession\n",
    "sc = SparkSession.builder.master(\"local\").appName(\"Test\").getOrCreate()\n",
    "\n",
    "columnName = 'te', 'td', 'sa', 'da', 'sp', 'dp', 'pr', 'flg', 'fwd', 'stos', 'pkt', 'byt', 'label'\n",
    "data_path = \"/home/ubuntu/Documents/data/\"\n",
    "large_data_path = data_path + \"ugr16/uniq/\"\n",
    "large_data_file = large_data_path + \"april.week3.csv.uniqblacklistremoved\"\n",
    "day_one_file = data_path + \"/ugr16/april_week3_day1\"\n",
    "day_two_file = data_path + \"/ugr16/april_week3_day2.csv'\"\n",
    "\n",
    "day_one_date = '2016-04-11'\n",
    "day_two_date = '2016-04-12'\n",
    "\n",
    "Path(large_data_path).mkdir(parents=True, exist_ok=True)"
   ]
  },
  {
   "cell_type": "code",
   "execution_count": 2,
   "id": "daeb9d85",
   "metadata": {
    "scrolled": true,
    "pycharm": {
     "name": "#%%\n"
    }
   },
   "outputs": [
    {
     "name": "stderr",
     "output_type": "stream",
     "text": [
      "                                                                                \r"
     ]
    }
   ],
   "source": [
    "df_raw = sc.read.csv(large_data_file)\n",
    "df_raw = df_raw.toDF(*columnName)"
   ]
  },
  {
   "cell_type": "code",
   "execution_count": 3,
   "id": "98a514c6",
   "metadata": {
    "pycharm": {
     "name": "#%%\n"
    }
   },
   "outputs": [],
   "source": [
    "#filter log entries by the selected dates\n",
    "df_day_one = df_raw.filter(df_raw.te.startswith(day_one_date))\n",
    "df_day_two = df_raw.filter(df_raw.te.startswith(day_two_date))"
   ]
  },
  {
   "cell_type": "markdown",
   "source": [],
   "metadata": {
    "collapsed": false,
    "pycharm": {
     "name": "#%% md\n"
    }
   }
  },
  {
   "cell_type": "markdown",
   "source": [
    "Save pyspark session partitioned by ip address into csv files"
   ],
   "metadata": {
    "collapsed": false,
    "pycharm": {
     "name": "#%% md\n"
    }
   }
  },
  {
   "cell_type": "code",
   "execution_count": 7,
   "id": "582feb93",
   "metadata": {
    "pycharm": {
     "name": "#%%\n"
    }
   },
   "outputs": [
    {
     "name": "stderr",
     "output_type": "stream",
     "text": [
      "                                                                                \r"
     ]
    }
   ],
   "source": [
    "df_day_one.write.csv(day_one_file)"
   ]
  },
  {
   "cell_type": "code",
   "execution_count": 6,
   "id": "4affd13f",
   "metadata": {
    "pycharm": {
     "name": "#%%\n"
    }
   },
   "outputs": [
    {
     "name": "stderr",
     "output_type": "stream",
     "text": [
      "                                                                                \r"
     ]
    }
   ],
   "source": [
    "df_day_two.write.csv(day_two_file)"
   ]
  },
  {
   "cell_type": "code",
   "execution_count": 14,
   "outputs": [],
   "source": [
    "import glob\n",
    "'''\n",
    "aggregate_spark_csv\n",
    "\n",
    "puts all of the files partitioned by ip address into a single csv file\n",
    "'''\n",
    "def aggregate_spark_csv(spark_folder, out_file):\n",
    "    for f in glob.glob(spark_folder + \"/*.csv\"):\n",
    "        open(out_file, mode='a').write(open(f, mode='r').read())"
   ],
   "metadata": {
    "collapsed": false,
    "pycharm": {
     "name": "#%%\n"
    }
   }
  },
  {
   "cell_type": "code",
   "execution_count": 15,
   "outputs": [],
   "source": [
    "aggregate_spark_csv(day_one_file, day_one_file + '.csv')"
   ],
   "metadata": {
    "collapsed": false,
    "pycharm": {
     "name": "#%%\n"
    }
   }
  },
  {
   "cell_type": "code",
   "execution_count": 6,
   "outputs": [],
   "source": [
    "aggregate_spark_csv(day_two_file, day_two_file + '.csv')"
   ],
   "metadata": {
    "collapsed": false,
    "pycharm": {
     "name": "#%%\n"
    }
   }
  },
  {
   "cell_type": "code",
   "execution_count": null,
   "outputs": [],
   "source": [],
   "metadata": {
    "collapsed": false,
    "pycharm": {
     "name": "#%%\n"
    }
   }
  }
 ],
 "metadata": {
  "kernelspec": {
   "name": "conda_stan",
   "language": "python",
   "display_name": "Environment (conda_stan)"
  },
  "language_info": {
   "codemirror_mode": {
    "name": "ipython",
    "version": 3
   },
   "file_extension": ".py",
   "mimetype": "text/x-python",
   "name": "python",
   "nbconvert_exporter": "python",
   "pygments_lexer": "ipython3",
   "version": "3.6.9"
  }
 },
 "nbformat": 4,
 "nbformat_minor": 5
}