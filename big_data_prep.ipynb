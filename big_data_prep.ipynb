{
 "cells": [
  {
   "cell_type": "code",
   "execution_count": 6,
   "id": "1d00bc54",
   "metadata": {
    "scrolled": true,
    "pycharm": {
     "name": "#%%\n"
    }
   },
   "outputs": [],
   "source": [
    "from pyspark.sql import SparkSession\n",
    "sc = SparkSession.builder.master(\"local\").appName(\"Test\").getOrCreate()\n",
    "\n",
    "columnName = 'te', 'td', 'sa', 'da', 'sp', 'dp', 'pr', 'flg', 'fwd', 'stos', 'pkt', 'byt', 'label'\n",
    "data_path = \"/run/user/1000/gvfs/smb-share:server=melchior.local,share=documents/april_week3_csv/uniq/\"\n",
    "large_data_file = data_path + \"april.week3.csv.uniqblacklistremoved\"\n",
    "day_one_file = \"april_week3_day1\"\n",
    "day_two_file = \"april_week3_day2\"\n",
    "\n",
    "day_one_date = '2016-04-11'\n",
    "day_two_date = '2016-04-12'"
   ]
  },
  {
   "cell_type": "code",
   "execution_count": null,
   "id": "b3693a5e",
   "metadata": {
    "pycharm": {
     "name": "#%%\n"
    }
   },
   "outputs": [],
   "source": [
    "day_one_file"
   ]
  },
  {
   "cell_type": "code",
   "execution_count": 8,
   "id": "daeb9d85",
   "metadata": {
    "scrolled": true,
    "pycharm": {
     "name": "#%%\n"
    }
   },
   "outputs": [],
   "source": [
    "df_raw = sc.read.csv(large_data_file)\n",
    "df_raw = df_raw.toDF(*columnName)"
   ]
  },
  {
   "cell_type": "code",
   "execution_count": null,
   "id": "8aae2c7b",
   "metadata": {
    "pycharm": {
     "name": "#%%\n"
    }
   },
   "outputs": [],
   "source": [
    "df_raw.count()"
   ]
  },
  {
   "cell_type": "code",
   "execution_count": 9,
   "id": "98a514c6",
   "metadata": {
    "pycharm": {
     "name": "#%%\n"
    }
   },
   "outputs": [],
   "source": [
    "df_day_one = df_raw.filter(df_raw.te.startswith(day_one_date))\n",
    "df_day_two = df_raw.filter(df_raw.te.startswith(day_two_date))"
   ]
  },
  {
   "cell_type": "code",
   "execution_count": null,
   "id": "4bd20b8b",
   "metadata": {
    "pycharm": {
     "name": "#%%\n"
    }
   },
   "outputs": [],
   "source": [
    "df_raw.filter(df_raw.fwd != 0).show()"
   ]
  },
  {
   "cell_type": "code",
   "execution_count": 11,
   "id": "c8fb04b7",
   "metadata": {
    "pycharm": {
     "name": "#%%\n"
    }
   },
   "outputs": [
    {
     "name": "stdout",
     "output_type": "stream",
     "text": [
      "+-------------------+-----+--------------+--------------+-----+-----+---+------+---+----+---+-----+---------------+\n",
      "|                 te|   td|            sa|            da|   sp|   dp| pr|   flg|fwd|stos|pkt|  byt|          label|\n",
      "+-------------------+-----+--------------+--------------+-----+-----+---+------+---+----+---+-----+---------------+\n",
      "|2016-04-11 00:01:41|8.996|42.219.152.242| 54.100.224.79|41572|   25|TCP|....S.|  0|   0|  3|  180|      blacklist|\n",
      "|2016-04-11 00:01:43|0.000|42.219.158.188|158.162.62.193|   53|52937|UDP|.A....|  0|   0|  1|  152|      blacklist|\n",
      "|2016-04-11 00:01:44|0.000|  143.72.8.137|42.219.158.188|   53|36648|UDP|.A....|  0|   0|  2|  238|      blacklist|\n",
      "|2016-04-11 00:01:44|0.000|42.219.158.188|  143.72.8.137|41586|   53|UDP|.A....|  0|   0|  2|  128|      blacklist|\n",
      "|2016-04-11 00:01:44|0.000|42.219.158.188|  143.72.8.137|50301|   53|UDP|.A....|  0|   0|  2|  128|      blacklist|\n",
      "|2016-04-11 00:01:44|0.000|42.219.158.188|  143.72.8.137|54047|   53|UDP|.A....|  0|   0|  2|  128|      blacklist|\n",
      "|2016-04-11 00:01:44|0.004|42.219.158.188|  143.72.8.137|36648|   53|UDP|.A....|  0|   0|  2|  128|      blacklist|\n",
      "|2016-04-11 00:01:44|0.116|42.219.158.188|175.177.229.80|   80| 5355|TCP|.AP...|  0|   2| 14|19736|      blacklist|\n",
      "|2016-04-11 00:01:44|0.448|42.219.158.188|215.98.182.153|   80|64601|TCP|.AP.SF|  0|   0|  6|  853|      blacklist|\n",
      "|2016-04-11 00:01:44|0.456|42.219.158.188|175.177.229.80|   80| 5355|TCP|.A..SF|  0|   0|  3|  128|      blacklist|\n",
      "|2016-04-11 00:01:45|0.000|  143.72.8.137|42.219.158.188|   53|33817|UDP|.A....|  0|   0|  2|  238|      blacklist|\n",
      "|2016-04-11 00:01:45|0.000|  143.72.8.137|42.219.158.188|   53|35296|UDP|.A....|  0|   0|  2|  238|      blacklist|\n",
      "|2016-04-11 00:01:45|0.000|  143.72.8.137|42.219.158.188|   53|39176|UDP|.A....|  0|   0|  2|  238|      blacklist|\n",
      "|2016-04-11 00:01:45|0.000|  143.72.8.137|42.219.158.188|   53|41586|UDP|.A....|  0|   0|  2|  238|      blacklist|\n",
      "|2016-04-11 00:01:45|0.000|  143.72.8.137|42.219.158.188|   53|46058|UDP|.A....|  0|   0|  2|  238|      blacklist|\n",
      "|2016-04-11 00:01:45|0.000|  143.72.8.137|42.219.158.188|   53|50301|UDP|.A....|  0|   0|  2|  238|      blacklist|\n",
      "|2016-04-11 00:01:45|0.000|  143.72.8.137|42.219.158.188|   53|51656|UDP|.A....|  0|   0|  2|  238|      blacklist|\n",
      "|2016-04-11 00:01:45|0.000|  143.72.8.137|42.219.158.188|   53|51740|UDP|.A....|  0|   0|  2|  238|      blacklist|\n",
      "|2016-04-11 00:01:45|0.000|  143.72.8.137|42.219.158.188|   53|60631|UDP|.A....|  0|   0|  2|  238|      blacklist|\n",
      "|2016-04-11 00:01:45|0.000|42.219.156.231| 71.62.190.207|36608|   22|TCP|...R..|  0|  40|  2|   80|anomaly-sshscan|\n",
      "+-------------------+-----+--------------+--------------+-----+-----+---+------+---+----+---+-----+---------------+\n",
      "only showing top 20 rows\n",
      "\n"
     ]
    }
   ],
   "source": [
    "df_day_one.filter(df_day_one.label != \"background\").show()"
   ]
  },
  {
   "cell_type": "code",
   "execution_count": 5,
   "id": "b7315130",
   "metadata": {
    "pycharm": {
     "name": "#%%\n"
    }
   },
   "outputs": [
    {
     "name": "stdout",
     "output_type": "stream",
     "text": [
      "+-------------------+------+--------------+---------------+-----+-----+---+------+---+----+---+-------+----------+\n",
      "|                 te|    td|            sa|             da|   sp|   dp| pr|   flg|fwd|stos|pkt|    byt|     lable|\n",
      "+-------------------+------+--------------+---------------+-----+-----+---+------+---+----+---+-------+----------+\n",
      "|2016-04-11 00:01:34| 5.016| 74.159.162.35|  42.219.155.26|24331|  443|TCP|.AP.S.|  0|   0|  9|   1807|background|\n",
      "|2016-04-11 00:01:34| 5.400| 165.13.187.32| 42.219.156.211|47976|  443|TCP|.AP.S.|  0|   0| 10|   1662|background|\n",
      "|2016-04-11 00:01:34| 5.440| 165.13.187.32| 42.219.156.211|47977|  443|TCP|.AP.S.|  0|   0| 10|   1646|background|\n",
      "|2016-04-11 00:01:34| 5.696|  143.72.8.137| 42.219.156.231|   53|42810|UDP|.A....|  0|   0|  2|    256|background|\n",
      "|2016-04-11 00:01:34| 5.696| 74.159.140.19|  42.219.155.26|29676|  443|TCP|.AP.S.|  0|   0|  8|   1755|background|\n",
      "|2016-04-11 00:01:34| 5.896|42.219.153.219|201.172.109.198|   80|56553|TCP|.A..S.|  0|   0|  3|    164|background|\n",
      "|2016-04-11 00:01:34| 5.896|42.219.153.219|201.172.109.198|   80|56554|TCP|.A..S.|  0|   0|  3|    164|background|\n",
      "|2016-04-11 00:01:34| 5.896|42.219.153.219|201.172.109.198|   80|56555|TCP|.A..S.|  0|   0|  3|    164|background|\n",
      "|2016-04-11 00:01:34| 5.984|42.219.153.219|201.172.109.198|   80|56552|TCP|.A..S.|  0|   0|  3|    164|background|\n",
      "|2016-04-11 00:01:34| 5.996|42.219.159.199|  141.55.255.54| 1027|  161|UDP|.A....|  0|   0| 12|    876|background|\n",
      "|2016-04-11 00:01:34| 6.016|42.219.159.195|    60.151.58.1|58527|  161|UDP|.A....|  0|   0| 12|    876|background|\n",
      "|2016-04-11 00:01:34| 6.048|42.219.153.219|201.172.109.198|   80|56547|TCP|.A..S.|  0|   0|  3|    164|background|\n",
      "|2016-04-11 00:01:34| 6.048|42.219.153.219|201.172.109.198|   80|56549|TCP|.A..S.|  0|   0|  3|    164|background|\n",
      "|2016-04-11 00:01:35|21.776|42.219.154.182|  202.24.250.22|  993|60455|TCP|.AP...|  0|   0|952|1382188|background|\n",
      "|2016-04-11 00:01:35|21.824| 202.24.250.22| 42.219.154.182|60455|  993|TCP|.AP...|  0|   0|716|  42470|background|\n",
      "|2016-04-11 00:01:35| 5.092| 165.13.187.32| 42.219.156.211|47978|  443|TCP|.AP.S.|  0|   0| 10|   1646|background|\n",
      "|2016-04-11 00:01:35| 5.408|216.60.140.239| 42.219.156.211|59518|  443|TCP|.AP.S.|  0|   0| 10|   1190|background|\n",
      "|2016-04-11 00:01:35| 5.700|  42.219.153.7| 51.132.127.186|   53|   53|UDP|.A....|  0|   0|  3|    238|background|\n",
      "|2016-04-11 00:01:35| 6.000|42.219.159.195|  60.151.56.128|58527|  161|UDP|.A....|  0|   0| 12|    876|background|\n",
      "|2016-04-11 00:01:36|23.732|131.138.113.53|  42.219.153.21|65169|   80|TCP|.AP.S.|  0|   0| 10|   1038|background|\n",
      "+-------------------+------+--------------+---------------+-----+-----+---+------+---+----+---+-------+----------+\n",
      "only showing top 20 rows\n",
      "\n"
     ]
    }
   ],
   "source": [
    "df_day_one.show()"
   ]
  },
  {
   "cell_type": "code",
   "execution_count": null,
   "id": "9d077c51",
   "metadata": {
    "pycharm": {
     "name": "#%%\n"
    }
   },
   "outputs": [],
   "source": [
    "df_day_two.show()"
   ]
  },
  {
   "cell_type": "code",
   "execution_count": null,
   "id": "582feb93",
   "metadata": {
    "pycharm": {
     "name": "#%%\n"
    }
   },
   "outputs": [],
   "source": [
    "df_day_one.write.csv(day_one_file)"
   ]
  },
  {
   "cell_type": "code",
   "execution_count": null,
   "id": "4affd13f",
   "metadata": {
    "pycharm": {
     "name": "#%%\n"
    }
   },
   "outputs": [],
   "source": [
    "df_day_two.write.csv(day_two_file)"
   ]
  },
  {
   "cell_type": "code",
   "execution_count": null,
   "id": "ab4a618f",
   "metadata": {
    "pycharm": {
     "name": "#%%\n"
    }
   },
   "outputs": [],
   "source": [
    "import org.apache.hadoop.conf.Configureation\n",
    "import org.apache.hadoop.fs[]"
   ]
  },
  {
   "cell_type": "code",
   "execution_count": null,
   "id": "56ea40df",
   "metadata": {
    "pycharm": {
     "name": "#%%\n"
    }
   },
   "outputs": [],
   "source": []
  }
 ],
 "metadata": {
  "kernelspec": {
   "display_name": "Python 3",
   "language": "python",
   "name": "python3"
  },
  "language_info": {
   "codemirror_mode": {
    "name": "ipython",
    "version": 3
   },
   "file_extension": ".py",
   "mimetype": "text/x-python",
   "name": "python",
   "nbconvert_exporter": "python",
   "pygments_lexer": "ipython3",
   "version": "3.6.9"
  }
 },
 "nbformat": 4,
 "nbformat_minor": 5
}